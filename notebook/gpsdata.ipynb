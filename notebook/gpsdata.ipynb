{
 "metadata": {
  "name": ""
 },
 "nbformat": 3,
 "nbformat_minor": 0,
 "worksheets": [
  {
   "cells": [
    {
     "cell_type": "code",
     "collapsed": false,
     "input": [
      "import pandas as pd"
     ],
     "language": "python",
     "metadata": {},
     "outputs": [],
     "prompt_number": 8
    },
    {
     "cell_type": "code",
     "collapsed": false,
     "input": [
      "filename = '/Users/ajmendez/tmp/gps/small.csv'\n",
      "df = pd.read_csv(filename, parse_dates=[['DATE','TIME']]).set_index('DATE_TIME')"
     ],
     "language": "python",
     "metadata": {},
     "outputs": [],
     "prompt_number": 31
    },
    {
     "cell_type": "code",
     "collapsed": false,
     "input": [
      "start = pd.datetime(2014,1,1)\n",
      "end = pd.datetime(2014,2,1)\n",
      "index = pd.date_range(start,end)\n",
      "index[0]"
     ],
     "language": "python",
     "metadata": {},
     "outputs": [
      {
       "metadata": {},
       "output_type": "pyout",
       "prompt_number": 39,
       "text": [
        "Timestamp('2014-01-01 00:00:00', tz=None)"
       ]
      }
     ],
     "prompt_number": 39
    },
    {
     "cell_type": "code",
     "collapsed": false,
     "input": [
      "df.keys()"
     ],
     "language": "python",
     "metadata": {},
     "outputs": [
      {
       "metadata": {},
       "output_type": "pyout",
       "prompt_number": 42,
       "text": [
        "Index([u'INDEX', u'RCR', u'VALID', u'LATITUDE', u'N/S', u'LONGITUDE', u'E/W', u'HEIGHT(m)', u'SPEED(km/h)', u'HEADING', u'PDOP', u'HDOP', u'VDOP', u'NSAT (USED/VIEW)', u'DISTANCE(m)', u'Unnamed: 17'], dtype='object')"
       ]
      }
     ],
     "prompt_number": 42
    },
    {
     "cell_type": "code",
     "collapsed": false,
     "input": [
      "# df.plot(x='LONGITUDE', y='LATITUDE')\n",
      "df.plot(x='LATITUDE', y='LONGITUDE')"
     ],
     "language": "python",
     "metadata": {},
     "outputs": [
      {
       "metadata": {},
       "output_type": "pyout",
       "prompt_number": 56,
       "text": [
        "<matplotlib.axes.AxesSubplot at 0x111f60e50>"
       ]
      },
      {
       "metadata": {},
       "output_type": "display_data",
       "png": "[encoded data removed]",
       "text": [
        "<matplotlib.figure.Figure at 0x10d54af50>"
       ]
      }
     ],
     "prompt_number": 56
    },
    {
     "cell_type": "code",
     "collapsed": false,
     "input": [],
     "language": "python",
     "metadata": {},
     "outputs": []
    }
   ],
   "metadata": {}
  }
 ]
}